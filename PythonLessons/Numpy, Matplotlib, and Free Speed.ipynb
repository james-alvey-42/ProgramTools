{
 "cells": [
  {
   "cell_type": "markdown",
   "metadata": {
    "slideshow": {
     "slide_type": "slide"
    }
   },
   "source": [
    "# Numpy, Matplotlib, and Free Speed\n",
    "---\n",
    "\n",
    "<center><a href=\"https://numpy.org/\"><img src='Figures/numpy.jpg'> Latest Version: v1.18 </a> <a href=\"https://matplotlib.org/\"><img src='Figures/matplotlib.png'> Latest Version: v3.1.1</a></center>"
   ]
  },
  {
   "cell_type": "markdown",
   "metadata": {
    "slideshow": {
     "slide_type": "slide"
    }
   },
   "source": [
    "## Part I: Numpy\n",
    "---\n",
    "\n",
    "Probably the central package for scientific computing in Python. Thoughtful usage of it can give you orders of magnitude speed increases in your code. It often also greatly streamlines the syntax.\n",
    "\n",
    "It is particularly useful as a tool to manage $N$-dimensional arrays in a way that pure Python lists cannot."
   ]
  },
  {
   "cell_type": "code",
   "execution_count": 1,
   "metadata": {
    "slideshow": {
     "slide_type": "fragment"
    }
   },
   "outputs": [],
   "source": [
    "import numpy as np"
   ]
  },
  {
   "cell_type": "markdown",
   "metadata": {
    "slideshow": {
     "slide_type": "slide"
    }
   },
   "source": [
    "## Part II: Matplotlib\n",
    "---\n",
    "\n",
    "Another core Python package that is used to make publication ready plots and visualise data. It combines very naturally with Numpy as well as Pandas (a database library).\n",
    "\n",
    "Both of these libraries have very detailed documentation on their websites, linked on the title page + Stack Exchange etc."
   ]
  },
  {
   "cell_type": "code",
   "execution_count": 2,
   "metadata": {
    "slideshow": {
     "slide_type": "fragment"
    }
   },
   "outputs": [],
   "source": [
    "import matplotlib.pyplot as plt"
   ]
  },
  {
   "cell_type": "markdown",
   "metadata": {
    "slideshow": {
     "slide_type": "slide"
    }
   },
   "source": [
    "## Part III: Free Speed\n",
    "---\n",
    "\n",
    "We will also look at some very simple examples of how to effortlessly find speed increases within your code:\n",
    "\n",
    "1. Easy parallelisation with <a href=\"https://joblib.readthedocs.io/en/latest/\">the Joblib Library</a>.\n",
    "2. Further Numpy tips and Tricks.\n",
    "3. Vectorizing and the C++ backend with <a href=\"https://numba.pydata.org/\">Numba</a>."
   ]
  },
  {
   "cell_type": "code",
   "execution_count": 3,
   "metadata": {
    "slideshow": {
     "slide_type": "fragment"
    }
   },
   "outputs": [],
   "source": [
    "from numba import vectorize, jit\n",
    "from joblib import Parallel, delayed"
   ]
  },
  {
   "cell_type": "markdown",
   "metadata": {
    "slideshow": {
     "slide_type": "slide"
    }
   },
   "source": [
    "## An Example - Analysing Patient Data\n",
    "\n",
    "To illustrate the use of Numpy and Matplotlib, we are going to think about an example. This will explore the main concepts and functionality of the packages.\n",
    "\n",
    "The data can be found <a href=\"https://github.com/swcarpentry/python-novice-inflammation/blob/gh-pages/data/inflammation-01.csv\">here</a>. It contains data for the inflammation levels over time (columns) for given patients (rows). We start by importing the libraries:"
   ]
  },
  {
   "cell_type": "code",
   "execution_count": 4,
   "metadata": {
    "slideshow": {
     "slide_type": "fragment"
    }
   },
   "outputs": [],
   "source": [
    "import numpy as np\n",
    "import matplotlib.pyplot as plt"
   ]
  },
  {
   "cell_type": "markdown",
   "metadata": {
    "slideshow": {
     "slide_type": "subslide"
    }
   },
   "source": [
    "To load the data we use the `np.loadtxt` function."
   ]
  },
  {
   "cell_type": "code",
   "execution_count": 5,
   "metadata": {
    "slideshow": {
     "slide_type": "fragment"
    }
   },
   "outputs": [
    {
     "name": "stdout",
     "output_type": "stream",
     "text": [
      "[[0. 0. 1. ... 3. 0. 0.]\n",
      " [0. 1. 2. ... 1. 0. 1.]\n",
      " [0. 1. 1. ... 2. 1. 1.]\n",
      " ...\n",
      " [0. 1. 1. ... 1. 1. 1.]\n",
      " [0. 0. 0. ... 0. 2. 0.]\n",
      " [0. 0. 1. ... 1. 1. 0.]]\n",
      "Array Type:\t <class 'numpy.ndarray'>\n",
      "Data Type:\t float64\n",
      "Data Shape:\t (60, 40)\n"
     ]
    }
   ],
   "source": [
    "data = np.loadtxt('patient_data.csv', delimiter=',')\n",
    "print(data)\n",
    "print('Array Type:\\t', type(data))\n",
    "print('Data Type:\\t', data.dtype)\n",
    "print('Data Shape:\\t', data.shape)"
   ]
  },
  {
   "cell_type": "markdown",
   "metadata": {
    "slideshow": {
     "slide_type": "subslide"
    }
   },
   "source": [
    "## Slicing Numpy Arrays\n",
    "\n",
    "We are often interested in slicing the data arrays to access certain elements. Importantly the row/column counting starts at 0.\n",
    "\n",
    "<img src=\"Figures/array_example.png\">"
   ]
  },
  {
   "cell_type": "markdown",
   "metadata": {
    "slideshow": {
     "slide_type": "subslide"
    }
   },
   "source": [
    "Looking at our example:"
   ]
  },
  {
   "cell_type": "code",
   "execution_count": 6,
   "metadata": {
    "slideshow": {
     "slide_type": "fragment"
    }
   },
   "outputs": [
    {
     "name": "stdout",
     "output_type": "stream",
     "text": [
      "First element: 0.0\n",
      "Last Element: 0.0\n",
      "Sliced Array:\n",
      " [[0. 1. 2. 1. 2. 1. 3. 2. 2. 6.]\n",
      " [0. 1. 1. 3. 3. 2. 6. 2. 5. 9.]\n",
      " [0. 0. 2. 0. 4. 2. 2. 1. 6. 7.]\n",
      " [0. 1. 1. 3. 3. 1. 3. 5. 2. 4.]]\n"
     ]
    }
   ],
   "source": [
    "print('First element:', data[0, 0])\n",
    "print('Last Element:', data[-1, -1])\n",
    "print('Sliced Array:\\n', data[1:5, 0:10])"
   ]
  },
  {
   "cell_type": "markdown",
   "metadata": {
    "slideshow": {
     "slide_type": "subslide"
    }
   },
   "source": [
    "We can also assign slices of a data array to a new variable:"
   ]
  },
  {
   "cell_type": "code",
   "execution_count": 7,
   "metadata": {
    "slideshow": {
     "slide_type": "fragment"
    }
   },
   "outputs": [
    {
     "name": "stdout",
     "output_type": "stream",
     "text": [
      "[[0. 0. 1. ... 3. 0. 0.]\n",
      " [0. 1. 2. ... 1. 0. 1.]\n",
      " [0. 1. 1. ... 2. 1. 1.]\n",
      " ...\n",
      " [0. 1. 1. ... 1. 1. 1.]\n",
      " [0. 0. 0. ... 0. 2. 0.]\n",
      " [0. 0. 1. ... 1. 1. 0.]]\n",
      "[[ 4.  4.  5.  7.  3.  4.  2.  3.  0.  0.]\n",
      " [10.  5.  4.  2.  2.  3.  2.  2.  1.  1.]\n",
      " [ 9.  6.  3.  2.  2.  4.  2.  0.  1.  1.]]\n"
     ]
    }
   ],
   "source": [
    "print(data)\n",
    "small_array = data[0:5:2, -10:]\n",
    "print(small_array)"
   ]
  },
  {
   "cell_type": "markdown",
   "metadata": {
    "slideshow": {
     "slide_type": "subslide"
    }
   },
   "source": [
    "It is important to understand how normal Python operations act on Numpy arrays:"
   ]
  },
  {
   "cell_type": "code",
   "execution_count": 8,
   "metadata": {
    "slideshow": {
     "slide_type": "fragment"
    }
   },
   "outputs": [
    {
     "name": "stdout",
     "output_type": "stream",
     "text": [
      "[[ 4.  4.  5.  7.  3.  4.  2.  3.  0.  0.]\n",
      " [10.  5.  4.  2.  2.  3.  2.  2.  1.  1.]\n",
      " [ 9.  6.  3.  2.  2.  4.  2.  0.  1.  1.]] Original\n",
      "\n",
      "[[ 8.  8. 10. 14.  6.  8.  4.  6.  0.  0.]\n",
      " [20. 10.  8.  4.  4.  6.  4.  4.  2.  2.]\n",
      " [18. 12.  6.  4.  4.  8.  4.  0.  2.  2.]] Multiply by 2 elementwise\n",
      "\n",
      "[[10. 10. 11. 13.  9. 10.  8.  9.  6.  6.]\n",
      " [16. 11. 10.  8.  8.  9.  8.  8.  7.  7.]\n",
      " [15. 12.  9.  8.  8. 10.  8.  6.  7.  7.]] Add 6 elementwise\n"
     ]
    }
   ],
   "source": [
    "print(small_array, 'Original\\n')\n",
    "print(small_array * 2, 'Multiply by 2 elementwise\\n')\n",
    "print(small_array + 6, 'Add 6 elementwise')"
   ]
  },
  {
   "cell_type": "markdown",
   "metadata": {
    "slideshow": {
     "slide_type": "subslide"
    }
   },
   "source": [
    "### Investigating our Data\n",
    "\n",
    "We are often interested in summary statistics to explore our data."
   ]
  },
  {
   "cell_type": "code",
   "execution_count": 9,
   "metadata": {
    "slideshow": {
     "slide_type": "fragment"
    }
   },
   "outputs": [
    {
     "name": "stdout",
     "output_type": "stream",
     "text": [
      "Global Mean:\t\t 6.14875\n",
      "Global Max:\t\t 20.0\n",
      "Global Std. Dev.:\t 4.613833197118566\n"
     ]
    }
   ],
   "source": [
    "print('Global Mean:\\t\\t', np.mean(data))\n",
    "print('Global Max:\\t\\t', np.max(data))\n",
    "print('Global Std. Dev.:\\t', np.std(data))"
   ]
  },
  {
   "cell_type": "markdown",
   "metadata": {
    "slideshow": {
     "slide_type": "subslide"
    }
   },
   "source": [
    "We can also look on a patient by patient basis by specifying an axis."
   ]
  },
  {
   "cell_type": "code",
   "execution_count": 10,
   "metadata": {
    "slideshow": {
     "slide_type": "fragment"
    }
   },
   "outputs": [
    {
     "name": "stdout",
     "output_type": "stream",
     "text": [
      "Patient Maximum:\n",
      " [18. 18. 19. 17. 17. 18. 17. 20. 17. 18. 18. 18. 17. 16. 17. 18. 19. 19.\n",
      " 17. 19. 19. 16. 17. 15. 17. 17. 18. 17. 20. 17. 16. 19. 15. 15. 19. 17.\n",
      " 16. 17. 19. 16. 18. 19. 16. 19. 18. 16. 19. 15. 16. 18. 14. 20. 17. 15.\n",
      " 17. 16. 17. 19. 18. 18.] \n",
      "\n",
      "Daily Mean:\n",
      " [ 0.          0.45        1.11666667  1.75        2.43333333  3.15\n",
      "  3.8         3.88333333  5.23333333  5.51666667  5.95        5.9\n",
      "  8.35        7.73333333  8.36666667  9.5         9.58333333 10.63333333\n",
      " 11.56666667 12.35       13.25       11.96666667 11.03333333 10.16666667\n",
      " 10.          8.66666667  9.15        7.25        7.33333333  6.58333333\n",
      "  6.06666667  5.95        5.11666667  3.6         3.3         3.56666667\n",
      "  2.48333333  1.5         1.13333333  0.56666667]\n"
     ]
    }
   ],
   "source": [
    "print('Patient Maximum:\\n', data.max(axis=1), '\\n')\n",
    "print('Daily Mean:\\n', data.mean(axis=0))"
   ]
  },
  {
   "cell_type": "markdown",
   "metadata": {
    "slideshow": {
     "slide_type": "subslide"
    }
   },
   "source": [
    "<center><img src='Figures/array_operations.png'></center>"
   ]
  },
  {
   "cell_type": "markdown",
   "metadata": {
    "slideshow": {
     "slide_type": "slide"
    }
   },
   "source": [
    "## Visualising the Data\n",
    "\n",
    "We want to very quickly illustrate some of the functionality of Matplotlib in exploring data. Again, this is not exactly exhaustive, and there is a lot more to do when it comes to making publication-quality plots. We can cover this later on if people are interested, however there are many answers on the official Matplotlib site."
   ]
  },
  {
   "cell_type": "code",
   "execution_count": 11,
   "metadata": {
    "scrolled": true,
    "slideshow": {
     "slide_type": "subslide"
    }
   },
   "outputs": [
    {
     "data": {
      "image/png": "[encoded data removed]",
      "text/plain": [
       "<Figure size 360x360 with 2 Axes>"
      ]
     },
     "metadata": {
      "needs_background": "light"
     },
     "output_type": "display_data"
    }
   ],
   "source": [
    "fig = plt.figure(figsize=(5,5))\n",
    "image = plt.imshow(data, vmin=5, vmax=15)\n",
    "plt.colorbar(label='Inflammation')\n",
    "plt.xlabel('Day')\n",
    "plt.ylabel('Patient ID')\n",
    "plt.show()"
   ]
  },
  {
   "cell_type": "markdown",
   "metadata": {
    "slideshow": {
     "slide_type": "subslide"
    }
   },
   "source": [
    "## 2d-Plotting\n",
    "\n",
    "As an example, let's look at how we can plot the average inflammation for each patient."
   ]
  },
  {
   "cell_type": "code",
   "execution_count": 12,
   "metadata": {
    "scrolled": true,
    "slideshow": {
     "slide_type": "subslide"
    }
   },
   "outputs": [
    {
     "data": {
      "image/png": "[encoded data removed]",
      "text/plain": [
       "<Figure size 432x432 with 1 Axes>"
      ]
     },
     "metadata": {
      "needs_background": "light"
     },
     "output_type": "display_data"
    }
   ],
   "source": [
    "avg_inf = np.mean(data, axis=0)\n",
    "fig = plt.figure(figsize=(6, 6))\n",
    "plt.plot(avg_inf, c='#1D4E89', lw=1, marker='*', markersize=10)\n",
    "plt.xlabel('Day $d$')\n",
    "plt.ylabel('Average Inflammation')\n",
    "plt.text(16, 4, r'Use $x = 5$', fontsize=24)\n",
    "plt.show()"
   ]
  },
  {
   "cell_type": "markdown",
   "metadata": {
    "slideshow": {
     "slide_type": "fragment"
    }
   },
   "source": [
    "We can also group subplots to show data at the same time."
   ]
  },
  {
   "cell_type": "code",
   "execution_count": 13,
   "metadata": {
    "scrolled": true,
    "slideshow": {
     "slide_type": "subslide"
    }
   },
   "outputs": [
    {
     "data": {
      "image/png": "[encoded data removed]",
      "text/plain": [
       "<Figure size 432x288 with 3 Axes>"
      ]
     },
     "metadata": {
      "needs_background": "light"
     },
     "output_type": "display_data"
    }
   ],
   "source": [
    "# fig = plt.figure(figsize=(18, 6))\n",
    "fig, axes = plt.subplots(1, 3)\n",
    "# axes1, axes2, axes3 = fig.add_subplot(1, 3, 1), fig.add_subplot(1, 3, 2), fig.add_subplot(1, 3, 3)\n",
    "plt.sca(axes[0])\n",
    "plt.plot(np.mean(data, axis=0)), plt.ylabel('Average')\n",
    "plt.sca(axes[1])\n",
    "plt.plot(np.max(data, axis=0)), axes[1].set_ylabel('Max.')\n",
    "plt.sca(axes[2])\n",
    "plt.plot(np.min(data, axis=0)), axes[2].set_ylabel('Min.')\n",
    "fig.tight_layout()"
   ]
  },
  {
   "cell_type": "markdown",
   "metadata": {
    "slideshow": {
     "slide_type": "slide"
    }
   },
   "source": [
    "## Free Speed\n",
    "\n",
    "There are a number of easy ways to speed up your codes. We will look at a couple of illustrative examples:\n",
    "\n",
    "1. Numpy Tips and Tricks\n",
    "2. Numba Vectorisation\n",
    "3. Joblib Parallelisation"
   ]
  },
  {
   "cell_type": "markdown",
   "metadata": {
    "slideshow": {
     "slide_type": "subslide"
    }
   },
   "source": [
    "### 1. Numpy Tips and Tricks\n",
    "\n",
    "The mantra for Numpy is that **array operations are always better than a for loop**. Later we will look at a way to make general functions *vectorised*. As an example consider:"
   ]
  },
  {
   "cell_type": "code",
   "execution_count": 18,
   "metadata": {
    "slideshow": {
     "slide_type": "subslide"
    }
   },
   "outputs": [
    {
     "name": "stdout",
     "output_type": "stream",
     "text": [
      "Run time = 0.73s\n"
     ]
    }
   ],
   "source": [
    "import time\n",
    "import numpy as np\n",
    "import math\n",
    "\n",
    "start_time = time.time()\n",
    "\n",
    "data = np.ones(shape=(1000, 1000), dtype=np.float)\n",
    "\n",
    "for i in range(1000):\n",
    "    for j in range(1000):\n",
    "        data[i][j] = math.sin(data[i][j])\n",
    "\n",
    "end_time = time.time()\n",
    "\n",
    "print(\"Run time = {:.2f}s\".format(end_time - start_time))"
   ]
  },
  {
   "cell_type": "code",
   "execution_count": 19,
   "metadata": {
    "slideshow": {
     "slide_type": "subslide"
    }
   },
   "outputs": [
    {
     "name": "stdout",
     "output_type": "stream",
     "text": [
      "Run time = 0.00507s\n"
     ]
    }
   ],
   "source": [
    "import time\n",
    "import numpy as np\n",
    "\n",
    "start_time = time.time()\n",
    "\n",
    "data = np.ones(shape=(1000, 1000), dtype=np.float)\n",
    "\n",
    "data = np.sin(data)\n",
    "\n",
    "end_time = time.time()\n",
    "\n",
    "print(\"Run time = {:.5f}s\".format(end_time - start_time))"
   ]
  },
  {
   "cell_type": "markdown",
   "metadata": {
    "slideshow": {
     "slide_type": "subslide"
    }
   },
   "source": [
    "### Booleans in Numpy\n",
    "\n",
    "Another important Numpy concept is masking. To illustrate this idea consider the following:"
   ]
  },
  {
   "cell_type": "code",
   "execution_count": 20,
   "metadata": {
    "slideshow": {
     "slide_type": "subslide"
    }
   },
   "outputs": [
    {
     "name": "stdout",
     "output_type": "stream",
     "text": [
      "Boolean Array:\n",
      " [[ True False]\n",
      " [False  True]] \n",
      "\n",
      "Test Array:\n",
      " [[nan  0.]\n",
      " [ 0. nan]]\n"
     ]
    }
   ],
   "source": [
    "mask_array = np.array([[1, 0],\n",
    "                       [0, 1]])\n",
    "test_array = np.array([[0, 0],\n",
    "                       [0, 0]], dtype='float')\n",
    "bool_array = (mask_array > 0)\n",
    "\n",
    "test_array[(mask_array > 0)] = np.nan\n",
    "print('Boolean Array:\\n', bool_array, '\\n')\n",
    "print('Test Array:\\n', test_array)"
   ]
  },
  {
   "cell_type": "markdown",
   "metadata": {
    "slideshow": {
     "slide_type": "subslide"
    }
   },
   "source": [
    "This is not possible with lists:"
   ]
  },
  {
   "cell_type": "code",
   "execution_count": 21,
   "metadata": {
    "slideshow": {
     "slide_type": "fragment"
    }
   },
   "outputs": [
    {
     "ename": "TypeError",
     "evalue": "'>' not supported between instances of 'list' and 'int'",
     "output_type": "error",
     "traceback": [
      "\u001b[0;31m---------------------------------------------------------------------------\u001b[0m",
      "\u001b[0;31mTypeError\u001b[0m                                 Traceback (most recent call last)",
      "\u001b[0;32m<ipython-input-21-8ae7da658ded>\u001b[0m in \u001b[0;36m<module>\u001b[0;34m\u001b[0m\n\u001b[1;32m      1\u001b[0m mask_list = [[1, 0], \n\u001b[1;32m      2\u001b[0m              [0, 1]]\n\u001b[0;32m----> 3\u001b[0;31m \u001b[0mmask_list\u001b[0m \u001b[0;34m>\u001b[0m \u001b[0;36m0\u001b[0m\u001b[0;34m\u001b[0m\u001b[0;34m\u001b[0m\u001b[0m\n\u001b[0m",
      "\u001b[0;31mTypeError\u001b[0m: '>' not supported between instances of 'list' and 'int'"
     ]
    }
   ],
   "source": [
    "mask_list = [[1, 0], \n",
    "             [0, 1]]\n",
    "mask_list > 0"
   ]
  },
  {
   "cell_type": "markdown",
   "metadata": {
    "slideshow": {
     "slide_type": "subslide"
    }
   },
   "source": [
    "### 2a. Numba Vectorisation\n",
    "\n",
    "The main concept that Numpy is built upon is vectorisation, where functions can act on entire arrays element by element. For example:"
   ]
  },
  {
   "cell_type": "code",
   "execution_count": null,
   "metadata": {
    "slideshow": {
     "slide_type": "fragment"
    }
   },
   "outputs": [],
   "source": [
    "array = np.array([[2, 0],\n",
    "                  [0, 2]])\n",
    "print(np.power(array, 3))"
   ]
  },
  {
   "cell_type": "markdown",
   "metadata": {
    "slideshow": {
     "slide_type": "subslide"
    }
   },
   "source": [
    "Not all functions that we might write will be automatically vectorised however (i.e. we cannot put in an array and get a sensible answer). For example, the following will not work:"
   ]
  },
  {
   "cell_type": "code",
   "execution_count": 23,
   "metadata": {
    "slideshow": {
     "slide_type": "subslide"
    }
   },
   "outputs": [
    {
     "name": "stdout",
     "output_type": "stream",
     "text": [
      "x = 5, 1\n"
     ]
    },
    {
     "ename": "ValueError",
     "evalue": "The truth value of an array with more than one element is ambiguous. Use a.any() or a.all()",
     "output_type": "error",
     "traceback": [
      "\u001b[0;31m---------------------------------------------------------------------------\u001b[0m",
      "\u001b[0;31mValueError\u001b[0m                                Traceback (most recent call last)",
      "\u001b[0;32m<ipython-input-23-3ef7e2365545>\u001b[0m in \u001b[0;36m<module>\u001b[0;34m\u001b[0m\n\u001b[1;32m      5\u001b[0m         \u001b[0;32mreturn\u001b[0m \u001b[0;36m0\u001b[0m\u001b[0;34m\u001b[0m\u001b[0;34m\u001b[0m\u001b[0m\n\u001b[1;32m      6\u001b[0m \u001b[0mprint\u001b[0m\u001b[0;34m(\u001b[0m\u001b[0;34m'x = 5,'\u001b[0m\u001b[0;34m,\u001b[0m \u001b[0mheaviside\u001b[0m\u001b[0;34m(\u001b[0m\u001b[0;36m5\u001b[0m\u001b[0;34m)\u001b[0m\u001b[0;34m)\u001b[0m\u001b[0;34m\u001b[0m\u001b[0;34m\u001b[0m\u001b[0m\n\u001b[0;32m----> 7\u001b[0;31m \u001b[0mprint\u001b[0m\u001b[0;34m(\u001b[0m\u001b[0;34m'x = [5, -5],'\u001b[0m\u001b[0;34m,\u001b[0m \u001b[0mheaviside\u001b[0m\u001b[0;34m(\u001b[0m\u001b[0mnp\u001b[0m\u001b[0;34m.\u001b[0m\u001b[0marray\u001b[0m\u001b[0;34m(\u001b[0m\u001b[0;34m[\u001b[0m\u001b[0;36m5\u001b[0m\u001b[0;34m,\u001b[0m \u001b[0;34m-\u001b[0m\u001b[0;36m5\u001b[0m\u001b[0;34m]\u001b[0m\u001b[0;34m)\u001b[0m\u001b[0;34m)\u001b[0m\u001b[0;34m)\u001b[0m\u001b[0;34m\u001b[0m\u001b[0;34m\u001b[0m\u001b[0m\n\u001b[0m",
      "\u001b[0;32m<ipython-input-23-3ef7e2365545>\u001b[0m in \u001b[0;36mheaviside\u001b[0;34m(x)\u001b[0m\n\u001b[1;32m      1\u001b[0m \u001b[0;32mdef\u001b[0m \u001b[0mheaviside\u001b[0m\u001b[0;34m(\u001b[0m\u001b[0mx\u001b[0m\u001b[0;34m)\u001b[0m\u001b[0;34m:\u001b[0m\u001b[0;34m\u001b[0m\u001b[0;34m\u001b[0m\u001b[0m\n\u001b[0;32m----> 2\u001b[0;31m     \u001b[0;32mif\u001b[0m \u001b[0mx\u001b[0m \u001b[0;34m>\u001b[0m \u001b[0;36m0\u001b[0m\u001b[0;34m:\u001b[0m\u001b[0;34m\u001b[0m\u001b[0;34m\u001b[0m\u001b[0m\n\u001b[0m\u001b[1;32m      3\u001b[0m         \u001b[0;32mreturn\u001b[0m \u001b[0;36m1\u001b[0m\u001b[0;34m\u001b[0m\u001b[0;34m\u001b[0m\u001b[0m\n\u001b[1;32m      4\u001b[0m     \u001b[0;32melse\u001b[0m\u001b[0;34m:\u001b[0m\u001b[0;34m\u001b[0m\u001b[0;34m\u001b[0m\u001b[0m\n\u001b[1;32m      5\u001b[0m         \u001b[0;32mreturn\u001b[0m \u001b[0;36m0\u001b[0m\u001b[0;34m\u001b[0m\u001b[0;34m\u001b[0m\u001b[0m\n",
      "\u001b[0;31mValueError\u001b[0m: The truth value of an array with more than one element is ambiguous. Use a.any() or a.all()"
     ]
    }
   ],
   "source": [
    "def heaviside(x):\n",
    "    if x > 0:\n",
    "        return 1\n",
    "    else:\n",
    "        return 0\n",
    "print('x = 5,', heaviside(5))\n",
    "print('x = [5, -5],', heaviside(np.array([5, -5])))"
   ]
  },
  {
   "cell_type": "markdown",
   "metadata": {
    "slideshow": {
     "slide_type": "subslide"
    }
   },
   "source": [
    "To deal with this we can use a library called <a href=\"https://numba.pydata.org/\">Numba</a> and add a **decorator** to our function to creat a *Numpy Universal Function*."
   ]
  },
  {
   "cell_type": "code",
   "execution_count": 22,
   "metadata": {
    "slideshow": {
     "slide_type": "fragment"
    }
   },
   "outputs": [
    {
     "name": "stdout",
     "output_type": "stream",
     "text": [
      "x = 5 \t\t 1\n",
      "x = [5, -5] \t [1 0]\n"
     ]
    }
   ],
   "source": [
    "@vectorize(nopython=True)\n",
    "def heaviside_vect(x):\n",
    "    if x > 0:\n",
    "        return 1\n",
    "    else:\n",
    "        return 0\n",
    "\n",
    "print('x = 5 \\t\\t', heaviside_vect(5))\n",
    "print('x = [5, -5] \\t', heaviside_vect(np.array([5, -5])))"
   ]
  },
  {
   "cell_type": "markdown",
   "metadata": {
    "slideshow": {
     "slide_type": "subslide"
    }
   },
   "source": [
    "With this very simple example, we find over an **order of magnitude** speed increase."
   ]
  },
  {
   "cell_type": "code",
   "execution_count": 24,
   "metadata": {
    "slideshow": {
     "slide_type": "subslide"
    }
   },
   "outputs": [
    {
     "name": "stdout",
     "output_type": "stream",
     "text": [
      "Run time = 0.90s\n"
     ]
    }
   ],
   "source": [
    "import time\n",
    "import numpy as np\n",
    "\n",
    "start_time = time.time()\n",
    "\n",
    "data = np.ones(shape=(1000, 1000), dtype=np.float)\n",
    "\n",
    "for i in range(1000):\n",
    "    for j in range(1000):\n",
    "        data[i][j] = heaviside(data[i][j])\n",
    "\n",
    "end_time = time.time()\n",
    "\n",
    "print(\"Run time = {:.2f}s\".format(end_time - start_time))"
   ]
  },
  {
   "cell_type": "code",
   "execution_count": 25,
   "metadata": {
    "slideshow": {
     "slide_type": "subslide"
    }
   },
   "outputs": [
    {
     "name": "stdout",
     "output_type": "stream",
     "text": [
      "Run time = 0.07s\n"
     ]
    }
   ],
   "source": [
    "import time\n",
    "import numpy as np\n",
    "\n",
    "start_time = time.time()\n",
    "\n",
    "data = np.ones(shape=(1000, 1000), dtype=np.float)\n",
    "\n",
    "data = heaviside_vect(data)\n",
    "\n",
    "end_time = time.time()\n",
    "\n",
    "print(\"Run time = {:.2f}s\".format(end_time - start_time))"
   ]
  },
  {
   "cell_type": "code",
   "execution_count": 27,
   "metadata": {
    "slideshow": {
     "slide_type": "subslide"
    }
   },
   "outputs": [
    {
     "name": "stdout",
     "output_type": "stream",
     "text": [
      "Run time = 0.00407s\n"
     ]
    }
   ],
   "source": [
    "import time\n",
    "import numpy as np\n",
    "\n",
    "start_time = time.time()\n",
    "\n",
    "data = np.ones(shape=(1000, 1000), dtype=np.float)\n",
    "\n",
    "data = np.sin(data)\n",
    "\n",
    "end_time = time.time()\n",
    "\n",
    "print(\"Run time = {:.5f}s\".format(end_time - start_time))"
   ]
  },
  {
   "cell_type": "markdown",
   "metadata": {
    "slideshow": {
     "slide_type": "subslide"
    }
   },
   "source": [
    "### 2b. Numba Compilation\n",
    "\n",
    "There is a linked concept that also requires a decorator above a function definition. This is the concept of pre-compiling a function before using it a number of times. The details regarding how this interfaces with the C++ backend to Python are unimportant, and we just consider an example."
   ]
  },
  {
   "cell_type": "code",
   "execution_count": 28,
   "metadata": {
    "slideshow": {
     "slide_type": "subslide"
    }
   },
   "outputs": [
    {
     "name": "stdout",
     "output_type": "stream",
     "text": [
      "Elapsed (with compilation) = 0.27s\n",
      "Elapsed (after compilation) = 0.000077s\n"
     ]
    }
   ],
   "source": [
    "x = np.arange(10000).reshape(100, 100)\n",
    "\n",
    "@jit(nopython=True)\n",
    "def go_fast(a):\n",
    "    trace = 0\n",
    "    for i in range(a.shape[0]):\n",
    "        trace += np.tanh(a[i, i])\n",
    "    return a + trace\n",
    "\n",
    "# The first time round, the function must be compiled\n",
    "start = time.time()\n",
    "go_fast(x)\n",
    "end = time.time()\n",
    "print(\"Elapsed (with compilation) = {:.2f}s\".format(end - start))\n",
    "\n",
    "# Now the function is compiled\n",
    "start = time.time()\n",
    "go_fast(x)\n",
    "end = time.time()\n",
    "print(\"Elapsed (after compilation) = {:.6f}s\".format(end - start))"
   ]
  },
  {
   "cell_type": "markdown",
   "metadata": {
    "slideshow": {
     "slide_type": "subslide"
    }
   },
   "source": [
    "### 3. Easy Parallelisation\n",
    "\n",
    "Finally, we provide a very simple example of how to parallelise for loops in Python. The exact improvement you get of course depends on the number of cores you have, but running on a cluster or a good desktop, you can find improvements of 10-100x with very little effort. To illustrate this we show how to transform a for loop into a parallelised form."
   ]
  },
  {
   "cell_type": "code",
   "execution_count": 29,
   "metadata": {
    "slideshow": {
     "slide_type": "fragment"
    }
   },
   "outputs": [],
   "source": [
    "from joblib import Parallel, delayed"
   ]
  },
  {
   "cell_type": "code",
   "execution_count": null,
   "metadata": {
    "slideshow": {
     "slide_type": "subslide"
    }
   },
   "outputs": [],
   "source": [
    "def add(x, y):\n",
    "    return x + y\n",
    "\n",
    "# For loop:\n",
    "result = []\n",
    "for x, y in zip([0, 1, 2], [4, 5, 6]):\n",
    "    result.append(add(x, y))\n",
    "    \n",
    "# Parallelised:\n",
    "result = Parallel(n_jobs=-1)(delayed(add)(x, y) for (x, y) in zip([0, 1, 2], [4, 5, 6]))"
   ]
  },
  {
   "cell_type": "markdown",
   "metadata": {
    "slideshow": {
     "slide_type": "slide"
    }
   },
   "source": [
    "<center>\n",
    "    \n",
    "# Thank you, questions?\n",
    "\n",
    "</center>"
   ]
  }
 ],
 "metadata": {
  "celltoolbar": "Slideshow",
  "kernelspec": {
   "display_name": "Python 3",
   "language": "python",
   "name": "python3"
  },
  "language_info": {
   "codemirror_mode": {
    "name": "ipython",
    "version": 3
   },
   "file_extension": ".py",
   "mimetype": "text/x-python",
   "name": "python",
   "nbconvert_exporter": "python",
   "pygments_lexer": "ipython3",
   "version": "3.7.3"
  },
  "rise": {
   "theme": "serif"
  }
 },
 "nbformat": 4,
 "nbformat_minor": 2
}
